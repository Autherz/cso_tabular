{
 "cells": [
  {
   "cell_type": "code",
   "execution_count": null,
   "metadata": {},
   "outputs": [],
   "source": []
  },
  {
   "cell_type": "code",
   "execution_count": 26,
   "metadata": {},
   "outputs": [],
   "source": [
    "import numpy as np\n",
    "import pandas as pd\n",
    "import matplotlib.pyplot as plt\n",
    "import matplotlib.animation as animation"
   ]
  },
  {
   "cell_type": "code",
   "execution_count": 77,
   "metadata": {},
   "outputs": [],
   "source": [
    "class gradient_descent():\n",
    "    def __init__(self, num_iteration, learning_rate):\n",
    "        self.numIteration = num_iteration \n",
    "        self.learningRate = learning_rate\n",
    "    \n",
    "    def compute_error(self, y, x, theta):\n",
    "        error = np.sum((y - np.dot(theta, x.transpose())) ** 2) / (2*len(y))\n",
    "        return(error)\n",
    "        \n",
    "    def add_bias_feature(self, x):\n",
    "        adding = np.ones(x.shape[0])\n",
    "        new_x = np.column_stack(tup = (adding, x))\n",
    "        return(new_x)\n",
    "    \n",
    "    def calculate_gradient(self, y, x, rand_seed): # y = b + wx\n",
    "        x = self.add_bias_feature(x)\n",
    "        print(x.shape)\n",
    "        xTrans = x.transpose()\n",
    "\n",
    "        np.random.seed(seed = rand_seed)\n",
    "        theta = np.random.normal(loc = 0, scale = 1, size= x.shape[1]) # initial theta\n",
    "    \n",
    "        theta_history = np.zeros(shape = (self.numIteration, x.shape[1]))\n",
    "        error_history = np.zeros(shape = self.numIteration)\n",
    "        \n",
    "        for num in range(self.numIteration):\n",
    "            \n",
    "            gradient = np.dot(xTrans, (y - np.dot(theta, xTrans))) / (-len(y))\n",
    "        \n",
    "            theta = (theta - self.learningRate * gradient.flatten()) # update parameter\n",
    "            \n",
    "            theta_history[num] = theta\n",
    "            error_history[num] = self.compute_error(y, x, theta)\n",
    "            # calculate error after updating the parameter\n",
    "        return(theta_history, error_history)\n",
    "        "
   ]
  },
  {
   "cell_type": "code",
   "execution_count": 83,
   "metadata": {},
   "outputs": [
    {
     "name": "stdout",
     "output_type": "stream",
     "text": [
      "(100, 2)\n",
      "[281.68305697 254.023838   229.35798382 207.3615433  187.74562431\n",
      " 170.2525995  154.65272274 140.74111174 128.33505721 117.2716232 ]\n"
     ]
    }
   ],
   "source": [
    "df = np.genfromtxt(fname = \"data.csv\", delimiter = ',')\n",
    "y, x = df[:,0], df[:, 1]\n",
    "num_iter = 10 \n",
    "learning_rate = 10**(-5)\n",
    "\n",
    "gd = gradient_descent(num_iteration=num_iter, learning_rate= learning_rate)\n",
    "parameter, error = gd.calculate_gradient(y, x, rand_seed = 123)\n",
    "print(error)\n",
    "bias = parameter[:, 0]\n",
    "slope = parameter[:, 1]\n"
   ]
  },
  {
   "cell_type": "code",
   "execution_count": 79,
   "metadata": {},
   "outputs": [],
   "source": [
    "class vis_gradient():\n",
    "    %matplotlib notebook\n",
    "    \n",
    "    def __init__(self, x, y, bias, slope, error, num_iter):\n",
    "        self.x = x\n",
    "        self.y = y\n",
    "        self.bias = bias\n",
    "        self.slope = slope\n",
    "        self.error = error\n",
    "        self.num_iter = num_iter\n",
    "        \n",
    "    def iteration_error(self):\n",
    "        experiment_times = np.arange(1, self.num_iter + 1)\n",
    "        \n",
    "        text_font = {'family' : 'serif', \n",
    "                    'style':'italic', \n",
    "                    'color':'blue', \n",
    "                    'weight': 'normal', \n",
    "                    'size' : 10}\n",
    "        \n",
    "        fig, ax = plt.subplots()\n",
    "        scat, = ax.plot([], [], maker = 'o', color='r')\n",
    "        "
   ]
  },
  {
   "cell_type": "code",
   "execution_count": null,
   "metadata": {},
   "outputs": [],
   "source": []
  },
  {
   "cell_type": "code",
   "execution_count": null,
   "metadata": {},
   "outputs": [],
   "source": [
    " "
   ]
  }
 ],
 "metadata": {
  "kernelspec": {
   "display_name": "Python 3",
   "language": "python",
   "name": "python3"
  },
  "language_info": {
   "codemirror_mode": {
    "name": "ipython",
    "version": 3
   },
   "file_extension": ".py",
   "mimetype": "text/x-python",
   "name": "python",
   "nbconvert_exporter": "python",
   "pygments_lexer": "ipython3",
   "version": "3.6.5"
  }
 },
 "nbformat": 4,
 "nbformat_minor": 2
}
